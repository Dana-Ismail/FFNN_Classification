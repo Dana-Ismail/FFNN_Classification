{
  "cells": [
    {
      "cell_type": "code",
      "source": [
        "!pip install keras-tuner -q"
      ],
      "metadata": {
        "id": "nxC-6dzGrabb",
        "colab": {
          "base_uri": "https://localhost:8080/"
        },
        "outputId": "976ec600-1243-4003-b824-93399ba9f1d3"
      },
      "execution_count": null,
      "outputs": [
        {
          "output_type": "stream",
          "name": "stdout",
          "text": [
            "\u001b[?25l     \u001b[90m━━━━━━━━━━━━━━━━━━━━━━━━━━━━━━━━━━━━━━━━\u001b[0m \u001b[32m0.0/172.2 KB\u001b[0m \u001b[31m?\u001b[0m eta \u001b[36m-:--:--\u001b[0m\r\u001b[2K     \u001b[90m━━━━━━━━━━━━━━━━━━━━━━━━━━━━━━━━━━━━━━\u001b[0m \u001b[32m172.2/172.2 KB\u001b[0m \u001b[31m10.5 MB/s\u001b[0m eta \u001b[36m0:00:00\u001b[0m\n",
            "\u001b[?25h"
          ]
        }
      ]
    },
    {
      "cell_type": "code",
      "source": [
        "!pip install tensorflow"
      ],
      "metadata": {
        "id": "23AsDNSVql-2"
      },
      "execution_count": null,
      "outputs": []
    },
    {
      "cell_type": "code",
      "source": [
        "import os\n",
        "from google.colab import drive\n",
        "from PIL import Image\n",
        "import numpy as np\n",
        "import pickle\n",
        "import keras_tuner\n",
        "import tensorflow\n",
        "from tensorflow import keras\n",
        "from keras import regularizers\n",
        "from keras_tuner import RandomSearch \n",
        "from sklearn.model_selection import train_test_split\n",
        "from keras.preprocessing.image import ImageDataGenerator\n",
        "from keras import layers\n",
        "from keras.preprocessing import image\n",
        "from keras.callbacks import EarlyStopping"
      ],
      "metadata": {
        "id": "FgY9q1crrekO"
      },
      "execution_count": null,
      "outputs": []
    },
    {
      "cell_type": "code",
      "source": [
        "# Authenticate and authorize Google Drive access\n",
        "drive.mount('/content/drive/')"
      ],
      "metadata": {
        "id": "QXD3JqVWSzaj",
        "colab": {
          "base_uri": "https://localhost:8080/"
        },
        "outputId": "235b3572-aa91-4a60-d2a7-619020c0ef9d"
      },
      "execution_count": null,
      "outputs": [
        {
          "output_type": "stream",
          "name": "stdout",
          "text": [
            "Mounted at /content/drive/\n"
          ]
        }
      ]
    },
    {
      "cell_type": "code",
      "source": [
        "# define path to seperated files (classes)\n",
        "classes = '/content/drive/MyDrive/classes'\n",
        "# if it doesn't already exist create one\n",
        "if not os.path.exists(classes):\n",
        "    os.makedirs(classes)"
      ],
      "metadata": {
        "id": "U_L_ceA-_iZC"
      },
      "execution_count": null,
      "outputs": []
    },
    {
      "cell_type": "code",
      "source": [
        "val = '/content/drive/MyDrive/val'"
      ],
      "metadata": {
        "id": "M6GPHLZU7_O_"
      },
      "execution_count": null,
      "outputs": []
    },
    {
      "cell_type": "code",
      "source": [
        "def normalizer(img):\n",
        "  return img / 255."
      ],
      "metadata": {
        "id": "E8FgiOMQ4snA"
      },
      "execution_count": null,
      "outputs": []
    },
    {
      "cell_type": "code",
      "source": [
        "# ImageDataGenerator to load and normalize the images\n",
        "datagen = ImageDataGenerator(preprocessing_function=normalizer)"
      ],
      "metadata": {
        "id": "PsziNqNIUuX2"
      },
      "execution_count": null,
      "outputs": []
    },
    {
      "cell_type": "code",
      "source": [
        "# create a generator to load and augment the images from the directory\n",
        "train_generator = datagen.flow_from_directory(\n",
        "    directory=classes,\n",
        "    target_size=(200, 200),\n",
        "    batch_size=32,\n",
        "    class_mode='categorical',\n",
        "    shuffle=True,\n",
        "    subset='training'\n",
        ")"
      ],
      "metadata": {
        "id": "818akB7n31ov",
        "colab": {
          "base_uri": "https://localhost:8080/"
        },
        "outputId": "139c2974-9ef5-41e0-91a7-dbddc966b2ed"
      },
      "execution_count": null,
      "outputs": [
        {
          "output_type": "stream",
          "name": "stdout",
          "text": [
            "Found 51441 images belonging to 9 classes.\n"
          ]
        }
      ]
    },
    {
      "cell_type": "code",
      "source": [
        "input_shape = (200,200,3)\n",
        "num_classes = 9 "
      ],
      "metadata": {
        "id": "qypjKisAtdg-"
      },
      "execution_count": null,
      "outputs": []
    },
    {
      "cell_type": "code",
      "source": [
        "def build_model(hp):\n",
        "    # input layer\n",
        "    inputs = keras.Input(shape=input_shape)\n",
        "    # flatten the input data\n",
        "    flattened_input = layers.Flatten()(inputs)\n",
        "    # number of layers to search\n",
        "    num_layers = hp.Int('num_layers', min_value=1, max_value=5, step=1)\n",
        "    # number of neurons for each layer to search\n",
        "    units = [hp.Int('units_' + str(layer), min_value=32, max_value=512, step=32)\n",
        "             for layer in range(num_layers)]\n",
        "    # the activation function to search\n",
        "    activation = hp.Choice('activation', ['relu', 'sigmoid', 'tanh'])\n",
        "    # regularization to search\n",
        "    regularization = hp.Choice('regularization', ['early_stop', 'drop_out', 'ridge'])\n",
        "    # hidden layers\n",
        "    if regularization == 'drop_out':\n",
        "        for layer in range(num_layers):\n",
        "            layer_output = layers.Dense(units[layer], activation=activation)(flattened_input if layer == 0 else layer_output)\n",
        "            layer_output = layers.Dropout(hp.Float('dropout_rate_' + str(layer), min_value=0.0, max_value=0.5, step=0.1))(layer_output)\n",
        "    else:\n",
        "        for layer in range(num_layers):\n",
        "            layer_output = layers.Dense(units[layer], activation=activation, kernel_regularizer=regularizers.l2(hp.Choice('l2_rate_' + str(layer), [0.01, 0.001, 0.0001])))(flattened_input if layer == 0 else layer_output)\n",
        "\n",
        "    # output layer\n",
        "    outputs = layers.Dense(num_classes, activation='softmax')(layer_output)\n",
        "\n",
        "    # early stopping\n",
        "    if regularization == 'early_stop':\n",
        "        early_stop = EarlyStopping(monitor='val_loss', patience=5)\n",
        "        callbacks = [early_stop]\n",
        "    else:\n",
        "        callbacks = []\n",
        "\n",
        "    model = keras.Model(inputs=inputs, outputs=outputs)\n",
        "\n",
        "    # compile the model\n",
        "    model.compile(optimizer='adam',\n",
        "                  loss=hp.Choice('loss_function', ['categorical_crossentropy', 'binary_crossentropy']),\n",
        "                  metrics=['accuracy'])\n",
        "  \n",
        "    return model"
      ],
      "metadata": {
        "id": "j0_wqGo6iZPL"
      },
      "execution_count": null,
      "outputs": []
    },
    {
      "cell_type": "code",
      "source": [
        "# hyperparameters \n",
        "tuner = RandomSearch(\n",
        "    build_model,\n",
        "    objective='val_accuracy',\n",
        "    directory='hyperparameters',\n",
        "    project_name='multi-class-ffnn')"
      ],
      "metadata": {
        "id": "0Kz47B9h6vmK"
      },
      "execution_count": null,
      "outputs": []
    },
    {
      "cell_type": "code",
      "source": [
        "val_generator = datagen.flow_from_directory(\n",
        "    directory=val,\n",
        "    target_size=(200, 200),\n",
        "    batch_size=32,\n",
        "    class_mode='categorical',\n",
        "    shuffle=True,\n",
        ")"
      ],
      "metadata": {
        "id": "Pm-c4wbYpJAb",
        "colab": {
          "base_uri": "https://localhost:8080/"
        },
        "outputId": "4a55fa87-6525-4893-948e-fe74437dd7b7"
      },
      "execution_count": null,
      "outputs": [
        {
          "output_type": "stream",
          "name": "stdout",
          "text": [
            "Found 3985 images belonging to 9 classes.\n"
          ]
        }
      ]
    },
    {
      "cell_type": "code",
      "source": [
        "tuner.search(train_generator, epochs=32, validation_data=val_generator)"
      ],
      "metadata": {
        "colab": {
          "base_uri": "https://localhost:8080/"
        },
        "id": "wNK7itPAert_",
        "outputId": "ee8868dc-f2a4-4659-f0de-c68ab4cc9261"
      },
      "execution_count": null,
      "outputs": [
        {
          "output_type": "stream",
          "name": "stdout",
          "text": [
            "\n",
            "Search: Running Trial #1\n",
            "\n",
            "Value             |Best Value So Far |Hyperparameter\n",
            "2                 |2                 |num_layers\n",
            "192               |192               |units_0\n",
            "relu              |relu              |activation\n",
            "early_stop        |early_stop        |regularization\n",
            "0.001             |0.001             |l2_rate_0\n",
            "binary_crossent...|binary_crossent...|loss_function\n",
            "32                |32                |units_1\n",
            "0.01              |0.01              |l2_rate_1\n",
            "\n",
            "Epoch 1/32\n",
            "1174/1608 [====================>.........] - ETA: 48:35 - loss: 0.8362 - accuracy: 0.1090"
          ]
        }
      ]
    },
    {
      "cell_type": "code",
      "source": [
        "# best hyperparameters and best model\n",
        "best_hps = tuner.get_best_hyperparameters(num_trials=1)[0]\n",
        "best_model = tuner.get_best_models(num_models=1)[0]\n",
        "\n",
        "# build the model with the best hyperparameters\n",
        "model = build_model(best_hps)"
      ],
      "metadata": {
        "id": "BlvIVn-PDPjg"
      },
      "execution_count": null,
      "outputs": []
    },
    {
      "cell_type": "code",
      "source": [],
      "metadata": {
        "id": "2RIBTXNhDD21"
      },
      "execution_count": null,
      "outputs": []
    },
    {
      "cell_type": "code",
      "source": [
        "# compile the best model with the same optimizer, loss function, and metrics used during the hyperparameter search\n",
        "best_model.compile(optimizer=best_hps.get('optimizer'),\n",
        "                   loss=best_hps.get('loss'),\n",
        "                   metrics=['accuracy'])"
      ],
      "metadata": {
        "id": "q-HudW6YGrPd"
      },
      "execution_count": null,
      "outputs": []
    },
    {
      "cell_type": "code",
      "source": [
        "# train model with train_generator\n",
        "history = model.fit(train_generator, epochs=32, validation_data=val_generator)"
      ],
      "metadata": {
        "id": "uNioKI5dCqo3"
      },
      "execution_count": null,
      "outputs": []
    },
    {
      "cell_type": "code",
      "source": [
        "history"
      ],
      "metadata": {
        "id": "hEYdb36CHZls"
      },
      "execution_count": null,
      "outputs": []
    },
    {
      "cell_type": "code",
      "source": [
        "test = '/content/drive/MyDrive/test'"
      ],
      "metadata": {
        "id": "Yr8GKfBjqcuy"
      },
      "execution_count": null,
      "outputs": []
    },
    {
      "cell_type": "code",
      "source": [
        "test_generator = datagen.flow_from_directory(\n",
        "    directory=test,\n",
        "    target_size=(200, 200),\n",
        "    batch_size=32,\n",
        "    class_mode='categorical',\n",
        ")"
      ],
      "metadata": {
        "id": "lVFakc_2o7jT"
      },
      "execution_count": null,
      "outputs": []
    },
    {
      "cell_type": "code",
      "source": [
        "# evaluation\n",
        "test_loss, test_acc = model.evaluate(test_generator)"
      ],
      "metadata": {
        "id": "tnMZmwClGdXQ"
      },
      "execution_count": null,
      "outputs": []
    },
    {
      "cell_type": "code",
      "source": [
        "test_acc"
      ],
      "metadata": {
        "id": "Yj7E_ftpGjOi"
      },
      "execution_count": null,
      "outputs": []
    }
  ],
  "metadata": {
    "accelerator": "GPU",
    "colab": {
      "provenance": []
    },
    "kernelspec": {
      "display_name": "Python 3",
      "language": "python",
      "name": "python3"
    },
    "language_info": {
      "codemirror_mode": {
        "name": "ipython",
        "version": 3
      },
      "file_extension": ".py",
      "mimetype": "text/x-python",
      "name": "python",
      "nbconvert_exporter": "python",
      "pygments_lexer": "ipython3",
      "version": "3.7.0"
    },
    "gpuClass": "standard"
  },
  "nbformat": 4,
  "nbformat_minor": 0
}